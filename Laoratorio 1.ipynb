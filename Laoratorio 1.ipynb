{
 "cells": [
  {
   "cell_type": "markdown",
   "id": "83ae3039",
   "metadata": {},
   "source": [
    "# Universidad del Valle de Guatemala\n",
    "## Security Data Science - 10\n",
    "* Jose Abraham Gutierrez Corado - 19111\n",
    "* Javier Alejandro Cotto Argueta - 19324\n",
    "\n",
    "## Laboratorio 1: Detección de Pishing"
   ]
  },
  {
   "cell_type": "markdown",
   "id": "5131b447",
   "metadata": {},
   "source": [
    "## PARTE 1"
   ]
  },
  {
   "cell_type": "markdown",
   "id": "3eb72532",
   "metadata": {},
   "source": [
    "### Importación de Librearias"
   ]
  },
  {
   "cell_type": "code",
   "execution_count": 1,
   "id": "3af7afa0",
   "metadata": {},
   "outputs": [],
   "source": [
    "import pandas as pd\n",
    "import numpy as np\n",
    "import re\n",
    "from collections import Counter\n",
    "from sklearn import feature_extraction, tree, model_selection, metrics\n",
    "import matplotlib.pyplot as plt\n",
    "import matplotlib\n",
    "import seaborn as sns\n",
    "from fast_ml.model_development import train_valid_test_split\n",
    "from sklearn.model_selection import cross_val_score, cross_validate\n",
    "from sklearn.ensemble import RandomForestClassifier, ExtraTreesClassifier\n",
    "from sklearn.metrics import confusion_matrix, precision_score, recall_score, f1_score, classification_report, accuracy_score\n",
    "%matplotlib inline\n",
    "#from yellowbrick.features import Rank2D\n",
    "#from yellowbrick.features import RadViz"
   ]
  },
  {
   "cell_type": "markdown",
   "id": "0746ec34",
   "metadata": {},
   "source": [
    "### Explorar Datos"
   ]
  },
  {
   "cell_type": "code",
   "execution_count": 2,
   "id": "d2822ccd",
   "metadata": {},
   "outputs": [
    {
     "data": {
      "text/html": [
       "<div>\n",
       "<style scoped>\n",
       "    .dataframe tbody tr th:only-of-type {\n",
       "        vertical-align: middle;\n",
       "    }\n",
       "\n",
       "    .dataframe tbody tr th {\n",
       "        vertical-align: top;\n",
       "    }\n",
       "\n",
       "    .dataframe thead th {\n",
       "        text-align: right;\n",
       "    }\n",
       "</style>\n",
       "<table border=\"1\" class=\"dataframe\">\n",
       "  <thead>\n",
       "    <tr style=\"text-align: right;\">\n",
       "      <th></th>\n",
       "      <th>url</th>\n",
       "      <th>ip</th>\n",
       "      <th>nb_www</th>\n",
       "      <th>nb_com</th>\n",
       "      <th>nb_dslash</th>\n",
       "      <th>http_in_path</th>\n",
       "      <th>punycode</th>\n",
       "      <th>port</th>\n",
       "      <th>tld_in_path</th>\n",
       "      <th>tld_in_subdomain</th>\n",
       "      <th>...</th>\n",
       "      <th>domain_in_title</th>\n",
       "      <th>domain_with_copyright</th>\n",
       "      <th>whois_registered_domain</th>\n",
       "      <th>domain_registration_length</th>\n",
       "      <th>domain_age</th>\n",
       "      <th>web_traffic</th>\n",
       "      <th>dns_record</th>\n",
       "      <th>google_index</th>\n",
       "      <th>page_rank</th>\n",
       "      <th>status</th>\n",
       "    </tr>\n",
       "  </thead>\n",
       "  <tbody>\n",
       "    <tr>\n",
       "      <th>0</th>\n",
       "      <td>http://www.crestonwood.com/router.php</td>\n",
       "      <td>0</td>\n",
       "      <td>1</td>\n",
       "      <td>0</td>\n",
       "      <td>0</td>\n",
       "      <td>0</td>\n",
       "      <td>0</td>\n",
       "      <td>0</td>\n",
       "      <td>0</td>\n",
       "      <td>0</td>\n",
       "      <td>...</td>\n",
       "      <td>0</td>\n",
       "      <td>1</td>\n",
       "      <td>0</td>\n",
       "      <td>45</td>\n",
       "      <td>-1</td>\n",
       "      <td>0</td>\n",
       "      <td>1</td>\n",
       "      <td>1</td>\n",
       "      <td>4</td>\n",
       "      <td>legitimate</td>\n",
       "    </tr>\n",
       "    <tr>\n",
       "      <th>1</th>\n",
       "      <td>http://shadetreetechnology.com/V4/validation/a...</td>\n",
       "      <td>1</td>\n",
       "      <td>0</td>\n",
       "      <td>0</td>\n",
       "      <td>0</td>\n",
       "      <td>0</td>\n",
       "      <td>0</td>\n",
       "      <td>0</td>\n",
       "      <td>0</td>\n",
       "      <td>0</td>\n",
       "      <td>...</td>\n",
       "      <td>1</td>\n",
       "      <td>0</td>\n",
       "      <td>0</td>\n",
       "      <td>77</td>\n",
       "      <td>5767</td>\n",
       "      <td>0</td>\n",
       "      <td>0</td>\n",
       "      <td>1</td>\n",
       "      <td>2</td>\n",
       "      <td>phishing</td>\n",
       "    </tr>\n",
       "    <tr>\n",
       "      <th>2</th>\n",
       "      <td>https://support-appleld.com.secureupdate.duila...</td>\n",
       "      <td>1</td>\n",
       "      <td>0</td>\n",
       "      <td>1</td>\n",
       "      <td>0</td>\n",
       "      <td>0</td>\n",
       "      <td>0</td>\n",
       "      <td>0</td>\n",
       "      <td>0</td>\n",
       "      <td>1</td>\n",
       "      <td>...</td>\n",
       "      <td>1</td>\n",
       "      <td>0</td>\n",
       "      <td>0</td>\n",
       "      <td>14</td>\n",
       "      <td>4004</td>\n",
       "      <td>5828815</td>\n",
       "      <td>0</td>\n",
       "      <td>1</td>\n",
       "      <td>0</td>\n",
       "      <td>phishing</td>\n",
       "    </tr>\n",
       "    <tr>\n",
       "      <th>3</th>\n",
       "      <td>http://rgipt.ac.in</td>\n",
       "      <td>0</td>\n",
       "      <td>0</td>\n",
       "      <td>0</td>\n",
       "      <td>0</td>\n",
       "      <td>0</td>\n",
       "      <td>0</td>\n",
       "      <td>0</td>\n",
       "      <td>0</td>\n",
       "      <td>0</td>\n",
       "      <td>...</td>\n",
       "      <td>1</td>\n",
       "      <td>0</td>\n",
       "      <td>0</td>\n",
       "      <td>62</td>\n",
       "      <td>-1</td>\n",
       "      <td>107721</td>\n",
       "      <td>0</td>\n",
       "      <td>0</td>\n",
       "      <td>3</td>\n",
       "      <td>legitimate</td>\n",
       "    </tr>\n",
       "    <tr>\n",
       "      <th>4</th>\n",
       "      <td>http://www.iracing.com/tracks/gateway-motorspo...</td>\n",
       "      <td>0</td>\n",
       "      <td>1</td>\n",
       "      <td>0</td>\n",
       "      <td>0</td>\n",
       "      <td>0</td>\n",
       "      <td>0</td>\n",
       "      <td>0</td>\n",
       "      <td>0</td>\n",
       "      <td>0</td>\n",
       "      <td>...</td>\n",
       "      <td>0</td>\n",
       "      <td>1</td>\n",
       "      <td>0</td>\n",
       "      <td>224</td>\n",
       "      <td>8175</td>\n",
       "      <td>8725</td>\n",
       "      <td>0</td>\n",
       "      <td>0</td>\n",
       "      <td>6</td>\n",
       "      <td>legitimate</td>\n",
       "    </tr>\n",
       "  </tbody>\n",
       "</table>\n",
       "<p>5 rows × 67 columns</p>\n",
       "</div>"
      ],
      "text/plain": [
       "                                                 url  ip  nb_www  nb_com  \\\n",
       "0              http://www.crestonwood.com/router.php   0       1       0   \n",
       "1  http://shadetreetechnology.com/V4/validation/a...   1       0       0   \n",
       "2  https://support-appleld.com.secureupdate.duila...   1       0       1   \n",
       "3                                 http://rgipt.ac.in   0       0       0   \n",
       "4  http://www.iracing.com/tracks/gateway-motorspo...   0       1       0   \n",
       "\n",
       "   nb_dslash  http_in_path  punycode  port  tld_in_path  tld_in_subdomain  \\\n",
       "0          0             0         0     0            0                 0   \n",
       "1          0             0         0     0            0                 0   \n",
       "2          0             0         0     0            0                 1   \n",
       "3          0             0         0     0            0                 0   \n",
       "4          0             0         0     0            0                 0   \n",
       "\n",
       "   ...  domain_in_title  domain_with_copyright  whois_registered_domain  \\\n",
       "0  ...                0                      1                        0   \n",
       "1  ...                1                      0                        0   \n",
       "2  ...                1                      0                        0   \n",
       "3  ...                1                      0                        0   \n",
       "4  ...                0                      1                        0   \n",
       "\n",
       "   domain_registration_length  domain_age  web_traffic  dns_record  \\\n",
       "0                          45          -1            0           1   \n",
       "1                          77        5767            0           0   \n",
       "2                          14        4004      5828815           0   \n",
       "3                          62          -1       107721           0   \n",
       "4                         224        8175         8725           0   \n",
       "\n",
       "   google_index  page_rank      status  \n",
       "0             1          4  legitimate  \n",
       "1             1          2    phishing  \n",
       "2             1          0    phishing  \n",
       "3             0          3  legitimate  \n",
       "4             0          6  legitimate  \n",
       "\n",
       "[5 rows x 67 columns]"
      ]
     },
     "execution_count": 2,
     "metadata": {},
     "output_type": "execute_result"
    }
   ],
   "source": [
    "df = pd.read_csv('dataset_pishing.csv')\n",
    "df.head(5)"
   ]
  },
  {
   "cell_type": "code",
   "execution_count": 3,
   "id": "ae6784ea",
   "metadata": {},
   "outputs": [
    {
     "data": {
      "text/html": [
       "<div>\n",
       "<style scoped>\n",
       "    .dataframe tbody tr th:only-of-type {\n",
       "        vertical-align: middle;\n",
       "    }\n",
       "\n",
       "    .dataframe tbody tr th {\n",
       "        vertical-align: top;\n",
       "    }\n",
       "\n",
       "    .dataframe thead th {\n",
       "        text-align: right;\n",
       "    }\n",
       "</style>\n",
       "<table border=\"1\" class=\"dataframe\">\n",
       "  <thead>\n",
       "    <tr style=\"text-align: right;\">\n",
       "      <th></th>\n",
       "      <th>url</th>\n",
       "      <th>ip</th>\n",
       "      <th>nb_www</th>\n",
       "      <th>nb_com</th>\n",
       "      <th>nb_dslash</th>\n",
       "      <th>http_in_path</th>\n",
       "      <th>punycode</th>\n",
       "      <th>port</th>\n",
       "      <th>tld_in_path</th>\n",
       "      <th>tld_in_subdomain</th>\n",
       "      <th>...</th>\n",
       "      <th>domain_in_title</th>\n",
       "      <th>domain_with_copyright</th>\n",
       "      <th>whois_registered_domain</th>\n",
       "      <th>domain_registration_length</th>\n",
       "      <th>domain_age</th>\n",
       "      <th>web_traffic</th>\n",
       "      <th>dns_record</th>\n",
       "      <th>google_index</th>\n",
       "      <th>page_rank</th>\n",
       "      <th>status</th>\n",
       "    </tr>\n",
       "  </thead>\n",
       "  <tbody>\n",
       "    <tr>\n",
       "      <th>8487</th>\n",
       "      <td>http://www.homeandlearn.co.uk/NET/nets4p10.html</td>\n",
       "      <td>0</td>\n",
       "      <td>1</td>\n",
       "      <td>0</td>\n",
       "      <td>0</td>\n",
       "      <td>0</td>\n",
       "      <td>0</td>\n",
       "      <td>0</td>\n",
       "      <td>0</td>\n",
       "      <td>0</td>\n",
       "      <td>...</td>\n",
       "      <td>1</td>\n",
       "      <td>0</td>\n",
       "      <td>0</td>\n",
       "      <td>240</td>\n",
       "      <td>6700</td>\n",
       "      <td>36431</td>\n",
       "      <td>0</td>\n",
       "      <td>1</td>\n",
       "      <td>5</td>\n",
       "      <td>legitimate</td>\n",
       "    </tr>\n",
       "    <tr>\n",
       "      <th>9457</th>\n",
       "      <td>https://helpathome.jobs.net/</td>\n",
       "      <td>0</td>\n",
       "      <td>0</td>\n",
       "      <td>0</td>\n",
       "      <td>0</td>\n",
       "      <td>0</td>\n",
       "      <td>0</td>\n",
       "      <td>0</td>\n",
       "      <td>0</td>\n",
       "      <td>0</td>\n",
       "      <td>...</td>\n",
       "      <td>1</td>\n",
       "      <td>0</td>\n",
       "      <td>0</td>\n",
       "      <td>199</td>\n",
       "      <td>8934</td>\n",
       "      <td>18070</td>\n",
       "      <td>0</td>\n",
       "      <td>0</td>\n",
       "      <td>5</td>\n",
       "      <td>legitimate</td>\n",
       "    </tr>\n",
       "    <tr>\n",
       "      <th>367</th>\n",
       "      <td>http://www.skm-eleksys.com/2011/02/transmissio...</td>\n",
       "      <td>0</td>\n",
       "      <td>1</td>\n",
       "      <td>0</td>\n",
       "      <td>0</td>\n",
       "      <td>0</td>\n",
       "      <td>0</td>\n",
       "      <td>0</td>\n",
       "      <td>0</td>\n",
       "      <td>0</td>\n",
       "      <td>...</td>\n",
       "      <td>1</td>\n",
       "      <td>0</td>\n",
       "      <td>0</td>\n",
       "      <td>120</td>\n",
       "      <td>3167</td>\n",
       "      <td>3345571</td>\n",
       "      <td>0</td>\n",
       "      <td>0</td>\n",
       "      <td>2</td>\n",
       "      <td>legitimate</td>\n",
       "    </tr>\n",
       "    <tr>\n",
       "      <th>8458</th>\n",
       "      <td>http://www.celloshop.com/</td>\n",
       "      <td>0</td>\n",
       "      <td>1</td>\n",
       "      <td>0</td>\n",
       "      <td>0</td>\n",
       "      <td>0</td>\n",
       "      <td>0</td>\n",
       "      <td>0</td>\n",
       "      <td>0</td>\n",
       "      <td>0</td>\n",
       "      <td>...</td>\n",
       "      <td>0</td>\n",
       "      <td>1</td>\n",
       "      <td>0</td>\n",
       "      <td>112</td>\n",
       "      <td>7559</td>\n",
       "      <td>1777191</td>\n",
       "      <td>0</td>\n",
       "      <td>0</td>\n",
       "      <td>2</td>\n",
       "      <td>legitimate</td>\n",
       "    </tr>\n",
       "    <tr>\n",
       "      <th>1111</th>\n",
       "      <td>https://techterms.com/definition/database</td>\n",
       "      <td>0</td>\n",
       "      <td>0</td>\n",
       "      <td>0</td>\n",
       "      <td>0</td>\n",
       "      <td>0</td>\n",
       "      <td>0</td>\n",
       "      <td>0</td>\n",
       "      <td>0</td>\n",
       "      <td>0</td>\n",
       "      <td>...</td>\n",
       "      <td>1</td>\n",
       "      <td>1</td>\n",
       "      <td>0</td>\n",
       "      <td>1944</td>\n",
       "      <td>7187</td>\n",
       "      <td>20789</td>\n",
       "      <td>0</td>\n",
       "      <td>0</td>\n",
       "      <td>5</td>\n",
       "      <td>legitimate</td>\n",
       "    </tr>\n",
       "  </tbody>\n",
       "</table>\n",
       "<p>5 rows × 67 columns</p>\n",
       "</div>"
      ],
      "text/plain": [
       "                                                    url  ip  nb_www  nb_com  \\\n",
       "8487    http://www.homeandlearn.co.uk/NET/nets4p10.html   0       1       0   \n",
       "9457                       https://helpathome.jobs.net/   0       0       0   \n",
       "367   http://www.skm-eleksys.com/2011/02/transmissio...   0       1       0   \n",
       "8458                          http://www.celloshop.com/   0       1       0   \n",
       "1111          https://techterms.com/definition/database   0       0       0   \n",
       "\n",
       "      nb_dslash  http_in_path  punycode  port  tld_in_path  tld_in_subdomain  \\\n",
       "8487          0             0         0     0            0                 0   \n",
       "9457          0             0         0     0            0                 0   \n",
       "367           0             0         0     0            0                 0   \n",
       "8458          0             0         0     0            0                 0   \n",
       "1111          0             0         0     0            0                 0   \n",
       "\n",
       "      ...  domain_in_title  domain_with_copyright  whois_registered_domain  \\\n",
       "8487  ...                1                      0                        0   \n",
       "9457  ...                1                      0                        0   \n",
       "367   ...                1                      0                        0   \n",
       "8458  ...                0                      1                        0   \n",
       "1111  ...                1                      1                        0   \n",
       "\n",
       "      domain_registration_length  domain_age  web_traffic  dns_record  \\\n",
       "8487                         240        6700        36431           0   \n",
       "9457                         199        8934        18070           0   \n",
       "367                          120        3167      3345571           0   \n",
       "8458                         112        7559      1777191           0   \n",
       "1111                        1944        7187        20789           0   \n",
       "\n",
       "      google_index  page_rank      status  \n",
       "8487             1          5  legitimate  \n",
       "9457             0          5  legitimate  \n",
       "367              0          2  legitimate  \n",
       "8458             0          2  legitimate  \n",
       "1111             0          5  legitimate  \n",
       "\n",
       "[5 rows x 67 columns]"
      ]
     },
     "execution_count": 3,
     "metadata": {},
     "output_type": "execute_result"
    }
   ],
   "source": [
    "df[df.status == 'legitimate'].sample(5)"
   ]
  },
  {
   "cell_type": "code",
   "execution_count": 4,
   "id": "4acd0da6",
   "metadata": {},
   "outputs": [
    {
     "data": {
      "text/html": [
       "<div>\n",
       "<style scoped>\n",
       "    .dataframe tbody tr th:only-of-type {\n",
       "        vertical-align: middle;\n",
       "    }\n",
       "\n",
       "    .dataframe tbody tr th {\n",
       "        vertical-align: top;\n",
       "    }\n",
       "\n",
       "    .dataframe thead th {\n",
       "        text-align: right;\n",
       "    }\n",
       "</style>\n",
       "<table border=\"1\" class=\"dataframe\">\n",
       "  <thead>\n",
       "    <tr style=\"text-align: right;\">\n",
       "      <th></th>\n",
       "      <th>url</th>\n",
       "      <th>ip</th>\n",
       "      <th>nb_www</th>\n",
       "      <th>nb_com</th>\n",
       "      <th>nb_dslash</th>\n",
       "      <th>http_in_path</th>\n",
       "      <th>punycode</th>\n",
       "      <th>port</th>\n",
       "      <th>tld_in_path</th>\n",
       "      <th>tld_in_subdomain</th>\n",
       "      <th>...</th>\n",
       "      <th>domain_in_title</th>\n",
       "      <th>domain_with_copyright</th>\n",
       "      <th>whois_registered_domain</th>\n",
       "      <th>domain_registration_length</th>\n",
       "      <th>domain_age</th>\n",
       "      <th>web_traffic</th>\n",
       "      <th>dns_record</th>\n",
       "      <th>google_index</th>\n",
       "      <th>page_rank</th>\n",
       "      <th>status</th>\n",
       "    </tr>\n",
       "  </thead>\n",
       "  <tbody>\n",
       "    <tr>\n",
       "      <th>8694</th>\n",
       "      <td>https://kongrespdgi.com/asset/ajax/onlin/Wells...</td>\n",
       "      <td>1</td>\n",
       "      <td>0</td>\n",
       "      <td>0</td>\n",
       "      <td>0</td>\n",
       "      <td>0</td>\n",
       "      <td>0</td>\n",
       "      <td>0</td>\n",
       "      <td>0</td>\n",
       "      <td>0</td>\n",
       "      <td>...</td>\n",
       "      <td>1</td>\n",
       "      <td>0</td>\n",
       "      <td>0</td>\n",
       "      <td>125</td>\n",
       "      <td>241</td>\n",
       "      <td>0</td>\n",
       "      <td>0</td>\n",
       "      <td>1</td>\n",
       "      <td>0</td>\n",
       "      <td>phishing</td>\n",
       "    </tr>\n",
       "    <tr>\n",
       "      <th>7588</th>\n",
       "      <td>https://www.scifiline.com/wp-admin/maint/scripts</td>\n",
       "      <td>0</td>\n",
       "      <td>1</td>\n",
       "      <td>0</td>\n",
       "      <td>0</td>\n",
       "      <td>0</td>\n",
       "      <td>0</td>\n",
       "      <td>0</td>\n",
       "      <td>0</td>\n",
       "      <td>0</td>\n",
       "      <td>...</td>\n",
       "      <td>1</td>\n",
       "      <td>0</td>\n",
       "      <td>0</td>\n",
       "      <td>208</td>\n",
       "      <td>157</td>\n",
       "      <td>5376297</td>\n",
       "      <td>0</td>\n",
       "      <td>1</td>\n",
       "      <td>1</td>\n",
       "      <td>phishing</td>\n",
       "    </tr>\n",
       "    <tr>\n",
       "      <th>9725</th>\n",
       "      <td>http://107.180.44.78/login.php?cmd=login_submi...</td>\n",
       "      <td>1</td>\n",
       "      <td>0</td>\n",
       "      <td>0</td>\n",
       "      <td>0</td>\n",
       "      <td>0</td>\n",
       "      <td>0</td>\n",
       "      <td>0</td>\n",
       "      <td>1</td>\n",
       "      <td>1</td>\n",
       "      <td>...</td>\n",
       "      <td>1</td>\n",
       "      <td>1</td>\n",
       "      <td>1</td>\n",
       "      <td>0</td>\n",
       "      <td>-1</td>\n",
       "      <td>0</td>\n",
       "      <td>1</td>\n",
       "      <td>0</td>\n",
       "      <td>0</td>\n",
       "      <td>phishing</td>\n",
       "    </tr>\n",
       "    <tr>\n",
       "      <th>4234</th>\n",
       "      <td>https://bankmaluku.co.id/chase/chase/home</td>\n",
       "      <td>0</td>\n",
       "      <td>0</td>\n",
       "      <td>0</td>\n",
       "      <td>0</td>\n",
       "      <td>0</td>\n",
       "      <td>0</td>\n",
       "      <td>0</td>\n",
       "      <td>0</td>\n",
       "      <td>0</td>\n",
       "      <td>...</td>\n",
       "      <td>1</td>\n",
       "      <td>0</td>\n",
       "      <td>0</td>\n",
       "      <td>194</td>\n",
       "      <td>4562</td>\n",
       "      <td>8152853</td>\n",
       "      <td>0</td>\n",
       "      <td>1</td>\n",
       "      <td>2</td>\n",
       "      <td>phishing</td>\n",
       "    </tr>\n",
       "    <tr>\n",
       "      <th>6724</th>\n",
       "      <td>https://outlook-webapp-portal.el.r.appspot.com...</td>\n",
       "      <td>0</td>\n",
       "      <td>0</td>\n",
       "      <td>0</td>\n",
       "      <td>0</td>\n",
       "      <td>0</td>\n",
       "      <td>0</td>\n",
       "      <td>0</td>\n",
       "      <td>0</td>\n",
       "      <td>0</td>\n",
       "      <td>...</td>\n",
       "      <td>1</td>\n",
       "      <td>1</td>\n",
       "      <td>0</td>\n",
       "      <td>228</td>\n",
       "      <td>5616</td>\n",
       "      <td>0</td>\n",
       "      <td>0</td>\n",
       "      <td>1</td>\n",
       "      <td>5</td>\n",
       "      <td>phishing</td>\n",
       "    </tr>\n",
       "  </tbody>\n",
       "</table>\n",
       "<p>5 rows × 67 columns</p>\n",
       "</div>"
      ],
      "text/plain": [
       "                                                    url  ip  nb_www  nb_com  \\\n",
       "8694  https://kongrespdgi.com/asset/ajax/onlin/Wells...   1       0       0   \n",
       "7588   https://www.scifiline.com/wp-admin/maint/scripts   0       1       0   \n",
       "9725  http://107.180.44.78/login.php?cmd=login_submi...   1       0       0   \n",
       "4234          https://bankmaluku.co.id/chase/chase/home   0       0       0   \n",
       "6724  https://outlook-webapp-portal.el.r.appspot.com...   0       0       0   \n",
       "\n",
       "      nb_dslash  http_in_path  punycode  port  tld_in_path  tld_in_subdomain  \\\n",
       "8694          0             0         0     0            0                 0   \n",
       "7588          0             0         0     0            0                 0   \n",
       "9725          0             0         0     0            1                 1   \n",
       "4234          0             0         0     0            0                 0   \n",
       "6724          0             0         0     0            0                 0   \n",
       "\n",
       "      ...  domain_in_title  domain_with_copyright  whois_registered_domain  \\\n",
       "8694  ...                1                      0                        0   \n",
       "7588  ...                1                      0                        0   \n",
       "9725  ...                1                      1                        1   \n",
       "4234  ...                1                      0                        0   \n",
       "6724  ...                1                      1                        0   \n",
       "\n",
       "      domain_registration_length  domain_age  web_traffic  dns_record  \\\n",
       "8694                         125         241            0           0   \n",
       "7588                         208         157      5376297           0   \n",
       "9725                           0          -1            0           1   \n",
       "4234                         194        4562      8152853           0   \n",
       "6724                         228        5616            0           0   \n",
       "\n",
       "      google_index  page_rank    status  \n",
       "8694             1          0  phishing  \n",
       "7588             1          1  phishing  \n",
       "9725             0          0  phishing  \n",
       "4234             1          2  phishing  \n",
       "6724             1          5  phishing  \n",
       "\n",
       "[5 rows x 67 columns]"
      ]
     },
     "execution_count": 4,
     "metadata": {},
     "output_type": "execute_result"
    }
   ],
   "source": [
    "df[df.status == 'phishing'].sample(5)"
   ]
  },
  {
   "cell_type": "markdown",
   "id": "2cd853bd",
   "metadata": {},
   "source": [
    "Si se encuentra balanceado."
   ]
  },
  {
   "cell_type": "code",
   "execution_count": 5,
   "id": "acf298d4",
   "metadata": {},
   "outputs": [
    {
     "data": {
      "text/plain": [
       "(11430, 67)"
      ]
     },
     "execution_count": 5,
     "metadata": {},
     "output_type": "execute_result"
    }
   ],
   "source": [
    "df.shape"
   ]
  },
  {
   "cell_type": "markdown",
   "id": "14bdb7ac",
   "metadata": {},
   "source": [
    "### Derivación de Características\n",
    "Las características del articulo son:\n",
    "* f1: Full URL length\n",
    "* f2: Hostname length\n",
    "* f4-f20: Special Characters in URL\n",
    "* f25: HTTPS Token\n",
    "* f26: Ratio of digits in full URLs\n",
    "* f27: Ratio of digits in hostnames"
   ]
  },
  {
   "cell_type": "code",
   "execution_count": 153,
   "id": "0eb95631",
   "metadata": {},
   "outputs": [],
   "source": [
    "# Creamos un nuevo dataframe para que sea más fácil la manipulación de datos\n",
    "df_copy = df.copy()"
   ]
  },
  {
   "cell_type": "markdown",
   "id": "35c41b0e",
   "metadata": {},
   "source": [
    "### Listado de Partes de una URL\n",
    "* Protocolo HTTPS\n",
    "* Subdominio\n",
    "* Dominio\n",
    "* TLD\n",
    "* Ruta\n",
    "* Parámetro\n",
    "* Etiqueta"
   ]
  },
  {
   "cell_type": "markdown",
   "id": "8438f674",
   "metadata": {},
   "source": [
    "### Funciones"
   ]
  },
  {
   "cell_type": "code",
   "execution_count": 158,
   "id": "18f52d94",
   "metadata": {},
   "outputs": [],
   "source": [
    "# Obtenemos F1\n",
    "df_copy['length'] = df_copy['url'].str.len()"
   ]
  },
  {
   "cell_type": "code",
   "execution_count": 8,
   "id": "92c90938",
   "metadata": {},
   "outputs": [],
   "source": [
    "#Obtenemos F2\n",
    "from urllib.parse import urlparse\n",
    "\n",
    "def getHostname(dfNew):\n",
    "    hostnames = []\n",
    "    for url in dfNew.url:\n",
    "        hostnames.append('{uri.scheme}://{uri.netloc}/'.format(uri=urlparse(url)))\n",
    "    \n",
    "    dfNew['hostname_length'] = hostnames\n",
    "    \n",
    "    dfNew['hostname_length'] = dfNew['hostname_length'].str.len()\n",
    "    \n",
    "    return dfNew\n",
    "\n",
    "#Obtenemos la columna de las carateristicas F4 - F20\n",
    "def SpecialCharacters(dfNew):\n",
    "    sChars = [\".\",\"-\", \"@\", \"?\", \"&\", \"|\", \"=\", \"_\", \"~\", \"%\", \"/\", \"*\", \":\", \",\", \";\", \"$\", \"%20\", \" \"]\n",
    "    cont = 0\n",
    "    scCount = []\n",
    "    for url in dfNew.url:\n",
    "        for c in url:\n",
    "            if (c in sChars) and (c != \"%\"):\n",
    "                cont += 1\n",
    "                \n",
    "            elif c == \"%\":\n",
    "                c2 = url.index(c)\n",
    "                c2 = c + url[c2]\n",
    "                \n",
    "                if c2 == \"%2\":\n",
    "                    cont += 1\n",
    "                else:\n",
    "                    cont += 1\n",
    "                    \n",
    "        scCount.append(cont)\n",
    "        cont = 0\n",
    "        \n",
    "    dfNew['Special_Char_Count'] = scCount\n",
    "    \n",
    "    return dfNew\n",
    "\n",
    "#Obtenemos si la URL tiene HTTPS o no\n",
    "def Check4HTTPS(dfNew):\n",
    "    check = []\n",
    "    for url in dfNew.url:\n",
    "        if \"https\" in url:\n",
    "            check.append(1)\n",
    "        else:\n",
    "            check.append(0)\n",
    "    \n",
    "    dfNew['HTTPS'] = check\n",
    "    return dfNew\n",
    "\n",
    "#Obtenemos el ratio de números en la URL y en el Hostname\n",
    "def ratioDigits(dfNew):\n",
    "    digits = [\"0\", \"1\", \"2\", \"3\", \"4\", \"5\", \"6\", \"7\", \"8\", \"9\"]\n",
    "    hostnames = []\n",
    "    urlDigits = []\n",
    "    hostnameDigits = []\n",
    "    cont1 = 0\n",
    "    cont2 = 0\n",
    "    \n",
    "    for url in dfNew.url:\n",
    "        for c in url:\n",
    "            if c in digits:\n",
    "                cont1 += 1\n",
    "                \n",
    "        urlDigits.append(cont1/len(url))\n",
    "        cont1 = 0\n",
    "        hostnames.append('{uri.scheme}://{uri.netloc}/'.format(uri=urlparse(url)))\n",
    "    \n",
    "    for hn in hostnames:\n",
    "        for c in hn:\n",
    "            if c in digits:\n",
    "                cont2 += 1\n",
    "                \n",
    "        hostnameDigits.append(cont2/len(hn))\n",
    "        cont2 = 0\n",
    "        \n",
    "    dfNew['urlDigits_ratio'] = urlDigits\n",
    "    dfNew['hostnameDigits_ratio'] = hostnameDigits\n",
    "    \n",
    "    return dfNew"
   ]
  },
  {
   "cell_type": "markdown",
   "id": "d7b9da64",
   "metadata": {},
   "source": [
    "### Ejecutar las funciones en el dataset"
   ]
  },
  {
   "cell_type": "code",
   "execution_count": 161,
   "id": "d6ddc1d0",
   "metadata": {},
   "outputs": [],
   "source": [
    "df_copy = getHostname(df_copy)\n",
    "df_copy = SpecialCharacters(df_copy)\n",
    "df_copy = Check4HTTPS(df_copy)\n",
    "df_copy = ratioDigits(df_copy)"
   ]
  },
  {
   "cell_type": "markdown",
   "id": "a2120095",
   "metadata": {},
   "source": [
    "Dataframe resultante con las nuevas columnas"
   ]
  },
  {
   "cell_type": "code",
   "execution_count": 187,
   "id": "c37977f6",
   "metadata": {},
   "outputs": [
    {
     "data": {
      "text/html": [
       "<div>\n",
       "<style scoped>\n",
       "    .dataframe tbody tr th:only-of-type {\n",
       "        vertical-align: middle;\n",
       "    }\n",
       "\n",
       "    .dataframe tbody tr th {\n",
       "        vertical-align: top;\n",
       "    }\n",
       "\n",
       "    .dataframe thead th {\n",
       "        text-align: right;\n",
       "    }\n",
       "</style>\n",
       "<table border=\"1\" class=\"dataframe\">\n",
       "  <thead>\n",
       "    <tr style=\"text-align: right;\">\n",
       "      <th></th>\n",
       "      <th>ip</th>\n",
       "      <th>nb_www</th>\n",
       "      <th>nb_com</th>\n",
       "      <th>nb_dslash</th>\n",
       "      <th>http_in_path</th>\n",
       "      <th>punycode</th>\n",
       "      <th>port</th>\n",
       "      <th>tld_in_path</th>\n",
       "      <th>tld_in_subdomain</th>\n",
       "      <th>abnormal_subdomain</th>\n",
       "      <th>...</th>\n",
       "      <th>dns_record</th>\n",
       "      <th>google_index</th>\n",
       "      <th>page_rank</th>\n",
       "      <th>status</th>\n",
       "      <th>length</th>\n",
       "      <th>hostname_length</th>\n",
       "      <th>Special_Char_Count</th>\n",
       "      <th>HTTPS</th>\n",
       "      <th>urlDigits_ratio</th>\n",
       "      <th>hostnameDigits_ratio</th>\n",
       "    </tr>\n",
       "  </thead>\n",
       "  <tbody>\n",
       "    <tr>\n",
       "      <th>10831</th>\n",
       "      <td>0</td>\n",
       "      <td>0</td>\n",
       "      <td>0</td>\n",
       "      <td>0</td>\n",
       "      <td>0</td>\n",
       "      <td>0</td>\n",
       "      <td>0</td>\n",
       "      <td>0</td>\n",
       "      <td>0</td>\n",
       "      <td>0</td>\n",
       "      <td>...</td>\n",
       "      <td>0</td>\n",
       "      <td>1</td>\n",
       "      <td>1</td>\n",
       "      <td>1</td>\n",
       "      <td>73</td>\n",
       "      <td>16</td>\n",
       "      <td>13</td>\n",
       "      <td>0</td>\n",
       "      <td>0.000000</td>\n",
       "      <td>0.000000</td>\n",
       "    </tr>\n",
       "    <tr>\n",
       "      <th>695</th>\n",
       "      <td>0</td>\n",
       "      <td>0</td>\n",
       "      <td>1</td>\n",
       "      <td>0</td>\n",
       "      <td>0</td>\n",
       "      <td>0</td>\n",
       "      <td>0</td>\n",
       "      <td>1</td>\n",
       "      <td>0</td>\n",
       "      <td>0</td>\n",
       "      <td>...</td>\n",
       "      <td>0</td>\n",
       "      <td>1</td>\n",
       "      <td>3</td>\n",
       "      <td>1</td>\n",
       "      <td>70</td>\n",
       "      <td>39</td>\n",
       "      <td>13</td>\n",
       "      <td>0</td>\n",
       "      <td>0.028571</td>\n",
       "      <td>0.051282</td>\n",
       "    </tr>\n",
       "    <tr>\n",
       "      <th>8256</th>\n",
       "      <td>0</td>\n",
       "      <td>0</td>\n",
       "      <td>0</td>\n",
       "      <td>0</td>\n",
       "      <td>0</td>\n",
       "      <td>0</td>\n",
       "      <td>0</td>\n",
       "      <td>0</td>\n",
       "      <td>0</td>\n",
       "      <td>0</td>\n",
       "      <td>...</td>\n",
       "      <td>0</td>\n",
       "      <td>1</td>\n",
       "      <td>4</td>\n",
       "      <td>0</td>\n",
       "      <td>69</td>\n",
       "      <td>23</td>\n",
       "      <td>15</td>\n",
       "      <td>1</td>\n",
       "      <td>0.246377</td>\n",
       "      <td>0.000000</td>\n",
       "    </tr>\n",
       "    <tr>\n",
       "      <th>11014</th>\n",
       "      <td>0</td>\n",
       "      <td>1</td>\n",
       "      <td>0</td>\n",
       "      <td>0</td>\n",
       "      <td>0</td>\n",
       "      <td>0</td>\n",
       "      <td>0</td>\n",
       "      <td>0</td>\n",
       "      <td>0</td>\n",
       "      <td>0</td>\n",
       "      <td>...</td>\n",
       "      <td>0</td>\n",
       "      <td>1</td>\n",
       "      <td>0</td>\n",
       "      <td>1</td>\n",
       "      <td>42</td>\n",
       "      <td>42</td>\n",
       "      <td>7</td>\n",
       "      <td>1</td>\n",
       "      <td>0.000000</td>\n",
       "      <td>0.000000</td>\n",
       "    </tr>\n",
       "    <tr>\n",
       "      <th>11279</th>\n",
       "      <td>0</td>\n",
       "      <td>0</td>\n",
       "      <td>0</td>\n",
       "      <td>0</td>\n",
       "      <td>0</td>\n",
       "      <td>0</td>\n",
       "      <td>0</td>\n",
       "      <td>0</td>\n",
       "      <td>0</td>\n",
       "      <td>0</td>\n",
       "      <td>...</td>\n",
       "      <td>0</td>\n",
       "      <td>1</td>\n",
       "      <td>5</td>\n",
       "      <td>1</td>\n",
       "      <td>70</td>\n",
       "      <td>50</td>\n",
       "      <td>11</td>\n",
       "      <td>1</td>\n",
       "      <td>0.042857</td>\n",
       "      <td>0.060000</td>\n",
       "    </tr>\n",
       "  </tbody>\n",
       "</table>\n",
       "<p>5 rows × 72 columns</p>\n",
       "</div>"
      ],
      "text/plain": [
       "       ip  nb_www  nb_com  nb_dslash  http_in_path  punycode  port  \\\n",
       "10831   0       0       0          0             0         0     0   \n",
       "695     0       0       1          0             0         0     0   \n",
       "8256    0       0       0          0             0         0     0   \n",
       "11014   0       1       0          0             0         0     0   \n",
       "11279   0       0       0          0             0         0     0   \n",
       "\n",
       "       tld_in_path  tld_in_subdomain  abnormal_subdomain  ...  dns_record  \\\n",
       "10831            0                 0                   0  ...           0   \n",
       "695              1                 0                   0  ...           0   \n",
       "8256             0                 0                   0  ...           0   \n",
       "11014            0                 0                   0  ...           0   \n",
       "11279            0                 0                   0  ...           0   \n",
       "\n",
       "       google_index  page_rank  status  length  hostname_length  \\\n",
       "10831             1          1       1      73               16   \n",
       "695               1          3       1      70               39   \n",
       "8256              1          4       0      69               23   \n",
       "11014             1          0       1      42               42   \n",
       "11279             1          5       1      70               50   \n",
       "\n",
       "       Special_Char_Count  HTTPS  urlDigits_ratio  hostnameDigits_ratio  \n",
       "10831                  13      0         0.000000              0.000000  \n",
       "695                    13      0         0.028571              0.051282  \n",
       "8256                   15      1         0.246377              0.000000  \n",
       "11014                   7      1         0.000000              0.000000  \n",
       "11279                  11      1         0.042857              0.060000  \n",
       "\n",
       "[5 rows x 72 columns]"
      ]
     },
     "execution_count": 187,
     "metadata": {},
     "output_type": "execute_result"
    }
   ],
   "source": [
    "df_copy.sample(5)"
   ]
  },
  {
   "cell_type": "markdown",
   "id": "b9c7617b",
   "metadata": {},
   "source": [
    "### Preprocesamiento\n",
    "Eliminación de columna Dominio y status de categorica a binaria"
   ]
  },
  {
   "cell_type": "code",
   "execution_count": 163,
   "id": "16d76b87",
   "metadata": {},
   "outputs": [],
   "source": [
    "df_copy['status'] = df['status'].replace(['legitimate', 'phishing'], ['0', '1'])\n",
    "df_copy.drop(['url'], axis=1, inplace=True)"
   ]
  },
  {
   "cell_type": "markdown",
   "id": "cdc27137",
   "metadata": {},
   "source": [
    "### Visualización de Resultados"
   ]
  },
  {
   "cell_type": "code",
   "execution_count": 165,
   "id": "3b92d5db",
   "metadata": {},
   "outputs": [
    {
     "data": {
      "application/vnd.jupyter.widget-view+json": {
       "model_id": "20572b23348a4cd3b5c3052980f88456",
       "version_major": 2,
       "version_minor": 0
      },
      "text/plain": [
       "Summarize dataset:   0%|          | 0/5 [00:00<?, ?it/s]"
      ]
     },
     "metadata": {},
     "output_type": "display_data"
    },
    {
     "data": {
      "application/vnd.jupyter.widget-view+json": {
       "model_id": "4897afaef4a24774b494d7f7a328b015",
       "version_major": 2,
       "version_minor": 0
      },
      "text/plain": [
       "Generate report structure:   0%|          | 0/1 [00:00<?, ?it/s]"
      ]
     },
     "metadata": {},
     "output_type": "display_data"
    },
    {
     "data": {
      "application/vnd.jupyter.widget-view+json": {
       "model_id": "ff665ef430354f44b785d581517ea2f2",
       "version_major": 2,
       "version_minor": 0
      },
      "text/plain": [
       "Render HTML:   0%|          | 0/1 [00:00<?, ?it/s]"
      ]
     },
     "metadata": {},
     "output_type": "display_data"
    },
    {
     "data": {
      "application/vnd.jupyter.widget-view+json": {
       "model_id": "1c98742881ef433f8c95a9c2ff2b803e",
       "version_major": 2,
       "version_minor": 0
      },
      "text/plain": [
       "Export report to file:   0%|          | 0/1 [00:00<?, ?it/s]"
      ]
     },
     "metadata": {},
     "output_type": "display_data"
    }
   ],
   "source": [
    "profile = ProfileReport(df_copy, title=\"Detecting Pishing in URLs\")\n",
    "profile.to_file(\"Pishing.html\")"
   ]
  },
  {
   "cell_type": "markdown",
   "id": "3be0ef8f",
   "metadata": {},
   "source": [
    "### Selección de Características"
   ]
  },
  {
   "cell_type": "markdown",
   "id": "f03bf422",
   "metadata": {},
   "source": [
    "Se consideraron aquellas variables que tuvieran una indice de correlacion mayor a 0.20 respecto a la variable \"status\" dado a que esta será la variable dependiente (target). Esto puede ser verificado con el mapa de calor obtenido en la sección anterior."
   ]
  },
  {
   "cell_type": "code",
   "execution_count": 173,
   "id": "bddd08f3",
   "metadata": {},
   "outputs": [],
   "source": [
    "df_copy2 = df_copy[['shortest_word_host', 'phish_hints', 'ratio_intHyperlinks',\n",
    "                    'ratio_extHyperlinks', 'ratio_extRedirection', 'ratio_extErrors', 'links_in_tags', 'ratio_intMedia', \n",
    "                    'ratio_extMedia', 'safe_anchor', 'page_rank', 'hostname_length', 'urlDigits_ratio', \n",
    "                    'hostnameDigits_ratio', 'ip', 'nb_www', 'tld_in_subdomain', 'nb_subdomains', 'prefix_suffix', \n",
    "                    'empty_title', 'domain_in_title', 'google_index', 'Special_Char_Count', 'status']]"
   ]
  },
  {
   "cell_type": "markdown",
   "id": "c7cc375b",
   "metadata": {},
   "source": [
    "Eliminación de datos duplicados"
   ]
  },
  {
   "cell_type": "code",
   "execution_count": 171,
   "id": "b45f7059",
   "metadata": {},
   "outputs": [
    {
     "data": {
      "text/html": [
       "<div>\n",
       "<style scoped>\n",
       "    .dataframe tbody tr th:only-of-type {\n",
       "        vertical-align: middle;\n",
       "    }\n",
       "\n",
       "    .dataframe tbody tr th {\n",
       "        vertical-align: top;\n",
       "    }\n",
       "\n",
       "    .dataframe thead th {\n",
       "        text-align: right;\n",
       "    }\n",
       "</style>\n",
       "<table border=\"1\" class=\"dataframe\">\n",
       "  <thead>\n",
       "    <tr style=\"text-align: right;\">\n",
       "      <th></th>\n",
       "      <th>shortest_word_host</th>\n",
       "      <th>phish_hints</th>\n",
       "      <th>ratio_intHyperlinks</th>\n",
       "      <th>ratio_extHyperlinks</th>\n",
       "      <th>ratio_extRedirection</th>\n",
       "      <th>ratio_extErrors</th>\n",
       "      <th>links_in_tags</th>\n",
       "      <th>ratio_intMedia</th>\n",
       "      <th>ratio_extMedia</th>\n",
       "      <th>safe_anchor</th>\n",
       "      <th>...</th>\n",
       "      <th>hostnameDigits_ratio</th>\n",
       "      <th>ip</th>\n",
       "      <th>nb_www</th>\n",
       "      <th>tld_in_subdomain</th>\n",
       "      <th>nb_subdomains</th>\n",
       "      <th>prefix_suffix</th>\n",
       "      <th>empty_title</th>\n",
       "      <th>domain_in_title</th>\n",
       "      <th>google_index</th>\n",
       "      <th>Special_Char_Count</th>\n",
       "    </tr>\n",
       "  </thead>\n",
       "  <tbody>\n",
       "    <tr>\n",
       "      <th>0</th>\n",
       "      <td>3</td>\n",
       "      <td>0</td>\n",
       "      <td>0.529412</td>\n",
       "      <td>0.470588</td>\n",
       "      <td>0.875000</td>\n",
       "      <td>0.500000</td>\n",
       "      <td>80.000000</td>\n",
       "      <td>100.000000</td>\n",
       "      <td>0.000000</td>\n",
       "      <td>0.000000</td>\n",
       "      <td>...</td>\n",
       "      <td>0.0</td>\n",
       "      <td>0</td>\n",
       "      <td>1</td>\n",
       "      <td>0</td>\n",
       "      <td>3</td>\n",
       "      <td>0</td>\n",
       "      <td>0</td>\n",
       "      <td>0</td>\n",
       "      <td>1</td>\n",
       "      <td>7</td>\n",
       "    </tr>\n",
       "    <tr>\n",
       "      <th>1</th>\n",
       "      <td>19</td>\n",
       "      <td>0</td>\n",
       "      <td>0.966667</td>\n",
       "      <td>0.033333</td>\n",
       "      <td>0.000000</td>\n",
       "      <td>0.000000</td>\n",
       "      <td>100.000000</td>\n",
       "      <td>80.000000</td>\n",
       "      <td>20.000000</td>\n",
       "      <td>100.000000</td>\n",
       "      <td>...</td>\n",
       "      <td>0.0</td>\n",
       "      <td>1</td>\n",
       "      <td>0</td>\n",
       "      <td>0</td>\n",
       "      <td>1</td>\n",
       "      <td>0</td>\n",
       "      <td>0</td>\n",
       "      <td>1</td>\n",
       "      <td>1</td>\n",
       "      <td>7</td>\n",
       "    </tr>\n",
       "    <tr>\n",
       "      <th>2</th>\n",
       "      <td>3</td>\n",
       "      <td>0</td>\n",
       "      <td>1.000000</td>\n",
       "      <td>0.000000</td>\n",
       "      <td>0.000000</td>\n",
       "      <td>0.000000</td>\n",
       "      <td>100.000000</td>\n",
       "      <td>0.000000</td>\n",
       "      <td>0.000000</td>\n",
       "      <td>100.000000</td>\n",
       "      <td>...</td>\n",
       "      <td>0.0</td>\n",
       "      <td>1</td>\n",
       "      <td>0</td>\n",
       "      <td>1</td>\n",
       "      <td>3</td>\n",
       "      <td>1</td>\n",
       "      <td>0</td>\n",
       "      <td>1</td>\n",
       "      <td>1</td>\n",
       "      <td>19</td>\n",
       "    </tr>\n",
       "    <tr>\n",
       "      <th>3</th>\n",
       "      <td>5</td>\n",
       "      <td>0</td>\n",
       "      <td>0.973154</td>\n",
       "      <td>0.026846</td>\n",
       "      <td>0.250000</td>\n",
       "      <td>0.250000</td>\n",
       "      <td>100.000000</td>\n",
       "      <td>96.428571</td>\n",
       "      <td>3.571429</td>\n",
       "      <td>62.500000</td>\n",
       "      <td>...</td>\n",
       "      <td>0.0</td>\n",
       "      <td>0</td>\n",
       "      <td>0</td>\n",
       "      <td>0</td>\n",
       "      <td>2</td>\n",
       "      <td>0</td>\n",
       "      <td>0</td>\n",
       "      <td>1</td>\n",
       "      <td>0</td>\n",
       "      <td>5</td>\n",
       "    </tr>\n",
       "    <tr>\n",
       "      <th>4</th>\n",
       "      <td>3</td>\n",
       "      <td>0</td>\n",
       "      <td>0.470588</td>\n",
       "      <td>0.529412</td>\n",
       "      <td>0.537037</td>\n",
       "      <td>0.018519</td>\n",
       "      <td>76.470588</td>\n",
       "      <td>0.000000</td>\n",
       "      <td>100.000000</td>\n",
       "      <td>0.000000</td>\n",
       "      <td>...</td>\n",
       "      <td>0.0</td>\n",
       "      <td>0</td>\n",
       "      <td>1</td>\n",
       "      <td>0</td>\n",
       "      <td>2</td>\n",
       "      <td>0</td>\n",
       "      <td>0</td>\n",
       "      <td>0</td>\n",
       "      <td>0</td>\n",
       "      <td>10</td>\n",
       "    </tr>\n",
       "    <tr>\n",
       "      <th>...</th>\n",
       "      <td>...</td>\n",
       "      <td>...</td>\n",
       "      <td>...</td>\n",
       "      <td>...</td>\n",
       "      <td>...</td>\n",
       "      <td>...</td>\n",
       "      <td>...</td>\n",
       "      <td>...</td>\n",
       "      <td>...</td>\n",
       "      <td>...</td>\n",
       "      <td>...</td>\n",
       "      <td>...</td>\n",
       "      <td>...</td>\n",
       "      <td>...</td>\n",
       "      <td>...</td>\n",
       "      <td>...</td>\n",
       "      <td>...</td>\n",
       "      <td>...</td>\n",
       "      <td>...</td>\n",
       "      <td>...</td>\n",
       "      <td>...</td>\n",
       "    </tr>\n",
       "    <tr>\n",
       "      <th>11425</th>\n",
       "      <td>3</td>\n",
       "      <td>0</td>\n",
       "      <td>0.884422</td>\n",
       "      <td>0.115578</td>\n",
       "      <td>0.043478</td>\n",
       "      <td>0.173913</td>\n",
       "      <td>80.000000</td>\n",
       "      <td>21.052632</td>\n",
       "      <td>78.947368</td>\n",
       "      <td>0.000000</td>\n",
       "      <td>...</td>\n",
       "      <td>0.0</td>\n",
       "      <td>0</td>\n",
       "      <td>1</td>\n",
       "      <td>0</td>\n",
       "      <td>2</td>\n",
       "      <td>0</td>\n",
       "      <td>0</td>\n",
       "      <td>0</td>\n",
       "      <td>0</td>\n",
       "      <td>7</td>\n",
       "    </tr>\n",
       "    <tr>\n",
       "      <th>11426</th>\n",
       "      <td>3</td>\n",
       "      <td>0</td>\n",
       "      <td>1.000000</td>\n",
       "      <td>0.000000</td>\n",
       "      <td>0.000000</td>\n",
       "      <td>0.000000</td>\n",
       "      <td>100.000000</td>\n",
       "      <td>0.000000</td>\n",
       "      <td>0.000000</td>\n",
       "      <td>0.000000</td>\n",
       "      <td>...</td>\n",
       "      <td>0.0</td>\n",
       "      <td>0</td>\n",
       "      <td>1</td>\n",
       "      <td>0</td>\n",
       "      <td>3</td>\n",
       "      <td>0</td>\n",
       "      <td>0</td>\n",
       "      <td>1</td>\n",
       "      <td>1</td>\n",
       "      <td>15</td>\n",
       "    </tr>\n",
       "    <tr>\n",
       "      <th>11427</th>\n",
       "      <td>3</td>\n",
       "      <td>0</td>\n",
       "      <td>0.470588</td>\n",
       "      <td>0.529412</td>\n",
       "      <td>0.000000</td>\n",
       "      <td>0.000000</td>\n",
       "      <td>6.250000</td>\n",
       "      <td>0.000000</td>\n",
       "      <td>0.000000</td>\n",
       "      <td>80.000000</td>\n",
       "      <td>...</td>\n",
       "      <td>0.0</td>\n",
       "      <td>1</td>\n",
       "      <td>1</td>\n",
       "      <td>0</td>\n",
       "      <td>2</td>\n",
       "      <td>0</td>\n",
       "      <td>0</td>\n",
       "      <td>0</td>\n",
       "      <td>1</td>\n",
       "      <td>17</td>\n",
       "    </tr>\n",
       "    <tr>\n",
       "      <th>11428</th>\n",
       "      <td>3</td>\n",
       "      <td>0</td>\n",
       "      <td>0.375000</td>\n",
       "      <td>0.625000</td>\n",
       "      <td>0.050000</td>\n",
       "      <td>0.050000</td>\n",
       "      <td>16.666667</td>\n",
       "      <td>0.000000</td>\n",
       "      <td>100.000000</td>\n",
       "      <td>0.000000</td>\n",
       "      <td>...</td>\n",
       "      <td>0.0</td>\n",
       "      <td>0</td>\n",
       "      <td>1</td>\n",
       "      <td>0</td>\n",
       "      <td>2</td>\n",
       "      <td>0</td>\n",
       "      <td>0</td>\n",
       "      <td>1</td>\n",
       "      <td>0</td>\n",
       "      <td>6</td>\n",
       "    </tr>\n",
       "    <tr>\n",
       "      <th>11429</th>\n",
       "      <td>2</td>\n",
       "      <td>3</td>\n",
       "      <td>0.428571</td>\n",
       "      <td>0.571429</td>\n",
       "      <td>0.000000</td>\n",
       "      <td>0.083333</td>\n",
       "      <td>0.000000</td>\n",
       "      <td>0.000000</td>\n",
       "      <td>0.000000</td>\n",
       "      <td>33.333333</td>\n",
       "      <td>...</td>\n",
       "      <td>0.5</td>\n",
       "      <td>1</td>\n",
       "      <td>1</td>\n",
       "      <td>1</td>\n",
       "      <td>3</td>\n",
       "      <td>0</td>\n",
       "      <td>0</td>\n",
       "      <td>1</td>\n",
       "      <td>1</td>\n",
       "      <td>99</td>\n",
       "    </tr>\n",
       "  </tbody>\n",
       "</table>\n",
       "<p>10808 rows × 23 columns</p>\n",
       "</div>"
      ],
      "text/plain": [
       "       shortest_word_host  phish_hints  ratio_intHyperlinks  \\\n",
       "0                       3            0             0.529412   \n",
       "1                      19            0             0.966667   \n",
       "2                       3            0             1.000000   \n",
       "3                       5            0             0.973154   \n",
       "4                       3            0             0.470588   \n",
       "...                   ...          ...                  ...   \n",
       "11425                   3            0             0.884422   \n",
       "11426                   3            0             1.000000   \n",
       "11427                   3            0             0.470588   \n",
       "11428                   3            0             0.375000   \n",
       "11429                   2            3             0.428571   \n",
       "\n",
       "       ratio_extHyperlinks  ratio_extRedirection  ratio_extErrors  \\\n",
       "0                 0.470588              0.875000         0.500000   \n",
       "1                 0.033333              0.000000         0.000000   \n",
       "2                 0.000000              0.000000         0.000000   \n",
       "3                 0.026846              0.250000         0.250000   \n",
       "4                 0.529412              0.537037         0.018519   \n",
       "...                    ...                   ...              ...   \n",
       "11425             0.115578              0.043478         0.173913   \n",
       "11426             0.000000              0.000000         0.000000   \n",
       "11427             0.529412              0.000000         0.000000   \n",
       "11428             0.625000              0.050000         0.050000   \n",
       "11429             0.571429              0.000000         0.083333   \n",
       "\n",
       "       links_in_tags  ratio_intMedia  ratio_extMedia  safe_anchor  ...  \\\n",
       "0          80.000000      100.000000        0.000000     0.000000  ...   \n",
       "1         100.000000       80.000000       20.000000   100.000000  ...   \n",
       "2         100.000000        0.000000        0.000000   100.000000  ...   \n",
       "3         100.000000       96.428571        3.571429    62.500000  ...   \n",
       "4          76.470588        0.000000      100.000000     0.000000  ...   \n",
       "...              ...             ...             ...          ...  ...   \n",
       "11425      80.000000       21.052632       78.947368     0.000000  ...   \n",
       "11426     100.000000        0.000000        0.000000     0.000000  ...   \n",
       "11427       6.250000        0.000000        0.000000    80.000000  ...   \n",
       "11428      16.666667        0.000000      100.000000     0.000000  ...   \n",
       "11429       0.000000        0.000000        0.000000    33.333333  ...   \n",
       "\n",
       "       hostnameDigits_ratio  ip  nb_www  tld_in_subdomain  nb_subdomains  \\\n",
       "0                       0.0   0       1                 0              3   \n",
       "1                       0.0   1       0                 0              1   \n",
       "2                       0.0   1       0                 1              3   \n",
       "3                       0.0   0       0                 0              2   \n",
       "4                       0.0   0       1                 0              2   \n",
       "...                     ...  ..     ...               ...            ...   \n",
       "11425                   0.0   0       1                 0              2   \n",
       "11426                   0.0   0       1                 0              3   \n",
       "11427                   0.0   1       1                 0              2   \n",
       "11428                   0.0   0       1                 0              2   \n",
       "11429                   0.5   1       1                 1              3   \n",
       "\n",
       "       prefix_suffix  empty_title  domain_in_title  google_index  \\\n",
       "0                  0            0                0             1   \n",
       "1                  0            0                1             1   \n",
       "2                  1            0                1             1   \n",
       "3                  0            0                1             0   \n",
       "4                  0            0                0             0   \n",
       "...              ...          ...              ...           ...   \n",
       "11425              0            0                0             0   \n",
       "11426              0            0                1             1   \n",
       "11427              0            0                0             1   \n",
       "11428              0            0                1             0   \n",
       "11429              0            0                1             1   \n",
       "\n",
       "       Special_Char_Count  \n",
       "0                       7  \n",
       "1                       7  \n",
       "2                      19  \n",
       "3                       5  \n",
       "4                      10  \n",
       "...                   ...  \n",
       "11425                   7  \n",
       "11426                  15  \n",
       "11427                  17  \n",
       "11428                   6  \n",
       "11429                  99  \n",
       "\n",
       "[10808 rows x 23 columns]"
      ]
     },
     "execution_count": 171,
     "metadata": {},
     "output_type": "execute_result"
    }
   ],
   "source": [
    "df_copy2.drop_duplicates()"
   ]
  },
  {
   "cell_type": "markdown",
   "id": "ce6f9733",
   "metadata": {},
   "source": [
    "## PARTE 2"
   ]
  },
  {
   "cell_type": "markdown",
   "id": "3feebfd7",
   "metadata": {},
   "source": [
    "### Separacion de datos"
   ]
  },
  {
   "cell_type": "markdown",
   "id": "cc61e8b5",
   "metadata": {},
   "source": [
    "Para este análisis, la varible dependiente o respuesta será <b>\"status\"</b> dado a que este es el que indica si un link es DGA o no. Y por lo tanto, el resto de variables serán las independientes."
   ]
  },
  {
   "cell_type": "code",
   "execution_count": 174,
   "id": "396c6d99",
   "metadata": {},
   "outputs": [],
   "source": [
    "#Datos de entrenamiento: 55% \n",
    "#Datos de validación: 15% \n",
    "#Datos de prueba: 30%\n",
    "\n",
    "X_train, y_train, X_valid, y_valid, X_test, y_test = train_valid_test_split(df_copy2, target='status', \n",
    "                                                                            train_size=0.55, valid_size=0.15, test_size=0.3)"
   ]
  },
  {
   "cell_type": "markdown",
   "id": "d2a303ee",
   "metadata": {},
   "source": [
    "Se almacenan los datos como CSV."
   ]
  },
  {
   "cell_type": "code",
   "execution_count": 188,
   "id": "b48d7be3",
   "metadata": {},
   "outputs": [],
   "source": [
    "X_test.to_csv('test_dataset.csv', index = False, encoding='utf-8')\n",
    "X_valid.to_csv('validation_dataset.csv', index = False, encoding='utf-8')\n",
    "X_train.to_csv('train_dataset.csv', index = False, encoding='utf-8')"
   ]
  },
  {
   "cell_type": "markdown",
   "id": "f0ad4c5b",
   "metadata": {},
   "source": [
    "### Modelos "
   ]
  },
  {
   "cell_type": "markdown",
   "id": "ae88e9a1",
   "metadata": {},
   "source": [
    "<h3 style=\"color:#FF0000\">Random Forest Classifier Model</h3>"
   ]
  },
  {
   "cell_type": "markdown",
   "id": "7b6500bb",
   "metadata": {},
   "source": [
    "<h4 style=\"color:#FF0000\">Creación</h4>"
   ]
  },
  {
   "cell_type": "code",
   "execution_count": 189,
   "id": "86322618",
   "metadata": {},
   "outputs": [
    {
     "data": {
      "text/html": [
       "<style>#sk-container-id-32 {color: black;background-color: white;}#sk-container-id-32 pre{padding: 0;}#sk-container-id-32 div.sk-toggleable {background-color: white;}#sk-container-id-32 label.sk-toggleable__label {cursor: pointer;display: block;width: 100%;margin-bottom: 0;padding: 0.3em;box-sizing: border-box;text-align: center;}#sk-container-id-32 label.sk-toggleable__label-arrow:before {content: \"▸\";float: left;margin-right: 0.25em;color: #696969;}#sk-container-id-32 label.sk-toggleable__label-arrow:hover:before {color: black;}#sk-container-id-32 div.sk-estimator:hover label.sk-toggleable__label-arrow:before {color: black;}#sk-container-id-32 div.sk-toggleable__content {max-height: 0;max-width: 0;overflow: hidden;text-align: left;background-color: #f0f8ff;}#sk-container-id-32 div.sk-toggleable__content pre {margin: 0.2em;color: black;border-radius: 0.25em;background-color: #f0f8ff;}#sk-container-id-32 input.sk-toggleable__control:checked~div.sk-toggleable__content {max-height: 200px;max-width: 100%;overflow: auto;}#sk-container-id-32 input.sk-toggleable__control:checked~label.sk-toggleable__label-arrow:before {content: \"▾\";}#sk-container-id-32 div.sk-estimator input.sk-toggleable__control:checked~label.sk-toggleable__label {background-color: #d4ebff;}#sk-container-id-32 div.sk-label input.sk-toggleable__control:checked~label.sk-toggleable__label {background-color: #d4ebff;}#sk-container-id-32 input.sk-hidden--visually {border: 0;clip: rect(1px 1px 1px 1px);clip: rect(1px, 1px, 1px, 1px);height: 1px;margin: -1px;overflow: hidden;padding: 0;position: absolute;width: 1px;}#sk-container-id-32 div.sk-estimator {font-family: monospace;background-color: #f0f8ff;border: 1px dotted black;border-radius: 0.25em;box-sizing: border-box;margin-bottom: 0.5em;}#sk-container-id-32 div.sk-estimator:hover {background-color: #d4ebff;}#sk-container-id-32 div.sk-parallel-item::after {content: \"\";width: 100%;border-bottom: 1px solid gray;flex-grow: 1;}#sk-container-id-32 div.sk-label:hover label.sk-toggleable__label {background-color: #d4ebff;}#sk-container-id-32 div.sk-serial::before {content: \"\";position: absolute;border-left: 1px solid gray;box-sizing: border-box;top: 0;bottom: 0;left: 50%;z-index: 0;}#sk-container-id-32 div.sk-serial {display: flex;flex-direction: column;align-items: center;background-color: white;padding-right: 0.2em;padding-left: 0.2em;position: relative;}#sk-container-id-32 div.sk-item {position: relative;z-index: 1;}#sk-container-id-32 div.sk-parallel {display: flex;align-items: stretch;justify-content: center;background-color: white;position: relative;}#sk-container-id-32 div.sk-item::before, #sk-container-id-32 div.sk-parallel-item::before {content: \"\";position: absolute;border-left: 1px solid gray;box-sizing: border-box;top: 0;bottom: 0;left: 50%;z-index: -1;}#sk-container-id-32 div.sk-parallel-item {display: flex;flex-direction: column;z-index: 1;position: relative;background-color: white;}#sk-container-id-32 div.sk-parallel-item:first-child::after {align-self: flex-end;width: 50%;}#sk-container-id-32 div.sk-parallel-item:last-child::after {align-self: flex-start;width: 50%;}#sk-container-id-32 div.sk-parallel-item:only-child::after {width: 0;}#sk-container-id-32 div.sk-dashed-wrapped {border: 1px dashed gray;margin: 0 0.4em 0.5em 0.4em;box-sizing: border-box;padding-bottom: 0.4em;background-color: white;}#sk-container-id-32 div.sk-label label {font-family: monospace;font-weight: bold;display: inline-block;line-height: 1.2em;}#sk-container-id-32 div.sk-label-container {text-align: center;}#sk-container-id-32 div.sk-container {/* jupyter's `normalize.less` sets `[hidden] { display: none; }` but bootstrap.min.css set `[hidden] { display: none !important; }` so we also need the `!important` here to be able to override the default hidden behavior on the sphinx rendered scikit-learn.org. See: https://github.com/scikit-learn/scikit-learn/issues/21755 */display: inline-block !important;position: relative;}#sk-container-id-32 div.sk-text-repr-fallback {display: none;}</style><div id=\"sk-container-id-32\" class=\"sk-top-container\"><div class=\"sk-text-repr-fallback\"><pre>RandomForestClassifier(random_state=42)</pre><b>In a Jupyter environment, please rerun this cell to show the HTML representation or trust the notebook. <br />On GitHub, the HTML representation is unable to render, please try loading this page with nbviewer.org.</b></div><div class=\"sk-container\" hidden><div class=\"sk-item\"><div class=\"sk-estimator sk-toggleable\"><input class=\"sk-toggleable__control sk-hidden--visually\" id=\"sk-estimator-id-32\" type=\"checkbox\" checked><label for=\"sk-estimator-id-32\" class=\"sk-toggleable__label sk-toggleable__label-arrow\">RandomForestClassifier</label><div class=\"sk-toggleable__content\"><pre>RandomForestClassifier(random_state=42)</pre></div></div></div></div></div>"
      ],
      "text/plain": [
       "RandomForestClassifier(random_state=42)"
      ]
     },
     "execution_count": 189,
     "metadata": {},
     "output_type": "execute_result"
    }
   ],
   "source": [
    "rf = RandomForestClassifier(n_estimators = 100, random_state = 42)\n",
    "rf.fit(X_train, y_train)"
   ]
  },
  {
   "cell_type": "markdown",
   "id": "11c3ebb7",
   "metadata": {},
   "source": [
    "<h4 style=\"color:#FF0000\">Puntaje del modelo</h4>"
   ]
  },
  {
   "cell_type": "code",
   "execution_count": 186,
   "id": "315cdf93",
   "metadata": {},
   "outputs": [
    {
     "name": "stdout",
     "output_type": "stream",
     "text": [
      "Model Score:  0.9579929988331388\n"
     ]
    }
   ],
   "source": [
    "# Predictions\n",
    "predictions = rf.predict(X_valid)\n",
    "\n",
    "# Get the results y_valid\n",
    "print('Model Score: ',metrics.accuracy_score(y_valid, predictions))"
   ]
  },
  {
   "cell_type": "markdown",
   "id": "fef2cfb9",
   "metadata": {},
   "source": [
    "<h4 style=\"color:#FF0000\">Matriz de confusión</h4>"
   ]
  },
  {
   "cell_type": "code",
   "execution_count": 185,
   "id": "fb52992f",
   "metadata": {},
   "outputs": [
    {
     "data": {
      "image/png": "[encoded data removed]",
      "text/plain": [
       "<Figure size 432x288 with 2 Axes>"
      ]
     },
     "metadata": {
      "needs_background": "light"
     },
     "output_type": "display_data"
    }
   ],
   "source": [
    "confusion_matrix = metrics.confusion_matrix(y_valid, predictions)\n",
    "\n",
    "cm_display = metrics.ConfusionMatrixDisplay(confusion_matrix = confusion_matrix, display_labels = [True, False])\n",
    "cm_display.plot()\n",
    "plt.grid()\n",
    "plt.show() "
   ]
  },
  {
   "cell_type": "markdown",
   "id": "9b9a68bf",
   "metadata": {},
   "source": [
    "<h4 style=\"color:#FF0000\">Reporte de metricas</h4>"
   ]
  },
  {
   "cell_type": "code",
   "execution_count": 184,
   "id": "4f20faea",
   "metadata": {},
   "outputs": [
    {
     "name": "stdout",
     "output_type": "stream",
     "text": [
      "              precision    recall  f1-score   support\n",
      "\n",
      "       legit       0.96      0.96      0.96       838\n",
      "         dga       0.96      0.96      0.96       876\n",
      "\n",
      "    accuracy                           0.96      1714\n",
      "   macro avg       0.96      0.96      0.96      1714\n",
      "weighted avg       0.96      0.96      0.96      1714\n",
      "\n"
     ]
    }
   ],
   "source": [
    "print(metrics.classification_report(y_valid, predictions, target_names=['legit', 'dga']))"
   ]
  },
  {
   "cell_type": "markdown",
   "id": "b4c012af",
   "metadata": {},
   "source": [
    "<h3 style=\"color:#d19b04\">Decision Forest Classifier Model</h3>"
   ]
  },
  {
   "cell_type": "markdown",
   "id": "2aadfae7",
   "metadata": {},
   "source": [
    "<h4 style=\"color:#d19b04\">Creación</h4>"
   ]
  },
  {
   "cell_type": "code",
   "execution_count": 177,
   "id": "5a498d08",
   "metadata": {},
   "outputs": [],
   "source": [
    "clf = tree.DecisionTreeClassifier()  \n",
    "clf = clf.fit(X_train, y_train)"
   ]
  },
  {
   "cell_type": "markdown",
   "id": "f8658eee",
   "metadata": {},
   "source": [
    "<h4 style=\"color:#d19b04\">Puntaje del modelo</h4>"
   ]
  },
  {
   "cell_type": "code",
   "execution_count": 192,
   "id": "ae3a7ed1",
   "metadata": {},
   "outputs": [
    {
     "name": "stdout",
     "output_type": "stream",
     "text": [
      "Model Score:  0.9311551925320887\n"
     ]
    }
   ],
   "source": [
    "# Predictions\n",
    "predictions2 = clf.predict(X_valid)\n",
    "\n",
    "print('Model Score: ', metrics.accuracy_score(y_valid, predictions2))"
   ]
  },
  {
   "cell_type": "markdown",
   "id": "be463013",
   "metadata": {},
   "source": [
    "<h4 style=\"color:#d19b04\">Matriz de confusión</h4>"
   ]
  },
  {
   "cell_type": "code",
   "execution_count": 191,
   "id": "0f39ef98",
   "metadata": {},
   "outputs": [
    {
     "data": {
      "image/png": "[encoded data removed]",
      "text/plain": [
       "<Figure size 432x288 with 2 Axes>"
      ]
     },
     "metadata": {
      "needs_background": "light"
     },
     "output_type": "display_data"
    }
   ],
   "source": [
    "confusion_matrix = metrics.confusion_matrix(y_valid, predictions2)\n",
    "\n",
    "cm_display = metrics.ConfusionMatrixDisplay(confusion_matrix = confusion_matrix, display_labels = [True, False])\n",
    "cm_display.plot()\n",
    "plt.grid()\n",
    "plt.show() "
   ]
  },
  {
   "cell_type": "markdown",
   "id": "41c3a067",
   "metadata": {},
   "source": [
    "<h4 style=\"color:#d19b04\">Reporte de métricas</h4>"
   ]
  },
  {
   "cell_type": "code",
   "execution_count": 193,
   "id": "19878013",
   "metadata": {},
   "outputs": [
    {
     "name": "stdout",
     "output_type": "stream",
     "text": [
      "              precision    recall  f1-score   support\n",
      "\n",
      "       legit       0.93      0.93      0.93       838\n",
      "         dga       0.93      0.93      0.93       876\n",
      "\n",
      "    accuracy                           0.93      1714\n",
      "   macro avg       0.93      0.93      0.93      1714\n",
      "weighted avg       0.93      0.93      0.93      1714\n",
      "\n"
     ]
    }
   ],
   "source": [
    "print(metrics.classification_report(y_valid, predictions2, target_names=['legit', 'dga']))"
   ]
  },
  {
   "cell_type": "markdown",
   "id": "1b2e8f23",
   "metadata": {},
   "source": [
    "<h3 style=\"color:#069605\">Extra Tress Classifier Model</h3>"
   ]
  },
  {
   "cell_type": "markdown",
   "id": "645e4cb0",
   "metadata": {},
   "source": [
    "<h4 style=\"color:#069605\">Creación</h4>"
   ]
  },
  {
   "cell_type": "code",
   "execution_count": 194,
   "id": "20e85582",
   "metadata": {},
   "outputs": [
    {
     "data": {
      "text/html": [
       "<style>#sk-container-id-33 {color: black;background-color: white;}#sk-container-id-33 pre{padding: 0;}#sk-container-id-33 div.sk-toggleable {background-color: white;}#sk-container-id-33 label.sk-toggleable__label {cursor: pointer;display: block;width: 100%;margin-bottom: 0;padding: 0.3em;box-sizing: border-box;text-align: center;}#sk-container-id-33 label.sk-toggleable__label-arrow:before {content: \"▸\";float: left;margin-right: 0.25em;color: #696969;}#sk-container-id-33 label.sk-toggleable__label-arrow:hover:before {color: black;}#sk-container-id-33 div.sk-estimator:hover label.sk-toggleable__label-arrow:before {color: black;}#sk-container-id-33 div.sk-toggleable__content {max-height: 0;max-width: 0;overflow: hidden;text-align: left;background-color: #f0f8ff;}#sk-container-id-33 div.sk-toggleable__content pre {margin: 0.2em;color: black;border-radius: 0.25em;background-color: #f0f8ff;}#sk-container-id-33 input.sk-toggleable__control:checked~div.sk-toggleable__content {max-height: 200px;max-width: 100%;overflow: auto;}#sk-container-id-33 input.sk-toggleable__control:checked~label.sk-toggleable__label-arrow:before {content: \"▾\";}#sk-container-id-33 div.sk-estimator input.sk-toggleable__control:checked~label.sk-toggleable__label {background-color: #d4ebff;}#sk-container-id-33 div.sk-label input.sk-toggleable__control:checked~label.sk-toggleable__label {background-color: #d4ebff;}#sk-container-id-33 input.sk-hidden--visually {border: 0;clip: rect(1px 1px 1px 1px);clip: rect(1px, 1px, 1px, 1px);height: 1px;margin: -1px;overflow: hidden;padding: 0;position: absolute;width: 1px;}#sk-container-id-33 div.sk-estimator {font-family: monospace;background-color: #f0f8ff;border: 1px dotted black;border-radius: 0.25em;box-sizing: border-box;margin-bottom: 0.5em;}#sk-container-id-33 div.sk-estimator:hover {background-color: #d4ebff;}#sk-container-id-33 div.sk-parallel-item::after {content: \"\";width: 100%;border-bottom: 1px solid gray;flex-grow: 1;}#sk-container-id-33 div.sk-label:hover label.sk-toggleable__label {background-color: #d4ebff;}#sk-container-id-33 div.sk-serial::before {content: \"\";position: absolute;border-left: 1px solid gray;box-sizing: border-box;top: 0;bottom: 0;left: 50%;z-index: 0;}#sk-container-id-33 div.sk-serial {display: flex;flex-direction: column;align-items: center;background-color: white;padding-right: 0.2em;padding-left: 0.2em;position: relative;}#sk-container-id-33 div.sk-item {position: relative;z-index: 1;}#sk-container-id-33 div.sk-parallel {display: flex;align-items: stretch;justify-content: center;background-color: white;position: relative;}#sk-container-id-33 div.sk-item::before, #sk-container-id-33 div.sk-parallel-item::before {content: \"\";position: absolute;border-left: 1px solid gray;box-sizing: border-box;top: 0;bottom: 0;left: 50%;z-index: -1;}#sk-container-id-33 div.sk-parallel-item {display: flex;flex-direction: column;z-index: 1;position: relative;background-color: white;}#sk-container-id-33 div.sk-parallel-item:first-child::after {align-self: flex-end;width: 50%;}#sk-container-id-33 div.sk-parallel-item:last-child::after {align-self: flex-start;width: 50%;}#sk-container-id-33 div.sk-parallel-item:only-child::after {width: 0;}#sk-container-id-33 div.sk-dashed-wrapped {border: 1px dashed gray;margin: 0 0.4em 0.5em 0.4em;box-sizing: border-box;padding-bottom: 0.4em;background-color: white;}#sk-container-id-33 div.sk-label label {font-family: monospace;font-weight: bold;display: inline-block;line-height: 1.2em;}#sk-container-id-33 div.sk-label-container {text-align: center;}#sk-container-id-33 div.sk-container {/* jupyter's `normalize.less` sets `[hidden] { display: none; }` but bootstrap.min.css set `[hidden] { display: none !important; }` so we also need the `!important` here to be able to override the default hidden behavior on the sphinx rendered scikit-learn.org. See: https://github.com/scikit-learn/scikit-learn/issues/21755 */display: inline-block !important;position: relative;}#sk-container-id-33 div.sk-text-repr-fallback {display: none;}</style><div id=\"sk-container-id-33\" class=\"sk-top-container\"><div class=\"sk-text-repr-fallback\"><pre>ExtraTreesClassifier(random_state=42)</pre><b>In a Jupyter environment, please rerun this cell to show the HTML representation or trust the notebook. <br />On GitHub, the HTML representation is unable to render, please try loading this page with nbviewer.org.</b></div><div class=\"sk-container\" hidden><div class=\"sk-item\"><div class=\"sk-estimator sk-toggleable\"><input class=\"sk-toggleable__control sk-hidden--visually\" id=\"sk-estimator-id-33\" type=\"checkbox\" checked><label for=\"sk-estimator-id-33\" class=\"sk-toggleable__label sk-toggleable__label-arrow\">ExtraTreesClassifier</label><div class=\"sk-toggleable__content\"><pre>ExtraTreesClassifier(random_state=42)</pre></div></div></div></div></div>"
      ],
      "text/plain": [
       "ExtraTreesClassifier(random_state=42)"
      ]
     },
     "execution_count": 194,
     "metadata": {},
     "output_type": "execute_result"
    }
   ],
   "source": [
    "eclf = ExtraTreesClassifier(n_estimators = 100, random_state = 42)\n",
    "eclf.fit(X_train, y_train)"
   ]
  },
  {
   "cell_type": "markdown",
   "id": "a696cd0f",
   "metadata": {},
   "source": [
    "<h4 style=\"color:#069605\">Puntaje del modelo</h4>"
   ]
  },
  {
   "cell_type": "code",
   "execution_count": 196,
   "id": "963ee287",
   "metadata": {},
   "outputs": [
    {
     "name": "stdout",
     "output_type": "stream",
     "text": [
      "Model Score:  0.9498249708284714\n"
     ]
    }
   ],
   "source": [
    "# Predictions\n",
    "predictions3 = eclf.predict(X_valid)\n",
    "\n",
    "print('Model Score: ', metrics.accuracy_score(y_valid, predictions3))"
   ]
  },
  {
   "cell_type": "markdown",
   "id": "e5ebc7cb",
   "metadata": {},
   "source": [
    "<h4 style=\"color:#069605\">Matriz de confusión</h4>"
   ]
  },
  {
   "cell_type": "code",
   "execution_count": 197,
   "id": "c458a7c4",
   "metadata": {},
   "outputs": [
    {
     "data": {
      "image/png": "[encoded data removed]",
      "text/plain": [
       "<Figure size 432x288 with 2 Axes>"
      ]
     },
     "metadata": {
      "needs_background": "light"
     },
     "output_type": "display_data"
    }
   ],
   "source": [
    "confusion_matrix = metrics.confusion_matrix(y_valid, predictions3)\n",
    "\n",
    "cm_display = metrics.ConfusionMatrixDisplay(confusion_matrix = confusion_matrix, display_labels = [True, False])\n",
    "cm_display.plot()\n",
    "plt.grid()\n",
    "plt.show() "
   ]
  },
  {
   "cell_type": "markdown",
   "id": "5ad7a90b",
   "metadata": {},
   "source": [
    "<h4 style=\"color:#069605\">Reporte de métricas</h4>"
   ]
  },
  {
   "cell_type": "code",
   "execution_count": 198,
   "id": "4b2d069b",
   "metadata": {},
   "outputs": [
    {
     "name": "stdout",
     "output_type": "stream",
     "text": [
      "              precision    recall  f1-score   support\n",
      "\n",
      "       legit       0.95      0.95      0.95       838\n",
      "         dga       0.95      0.95      0.95       876\n",
      "\n",
      "    accuracy                           0.95      1714\n",
      "   macro avg       0.95      0.95      0.95      1714\n",
      "weighted avg       0.95      0.95      0.95      1714\n",
      "\n"
     ]
    }
   ],
   "source": [
    "print(metrics.classification_report(y_valid, predictions3, target_names=['legit', 'dga']))"
   ]
  },
  {
   "cell_type": "markdown",
   "id": "d3bfcc6b",
   "metadata": {},
   "source": [
    "# Discusión"
   ]
  },
  {
   "cell_type": "markdown",
   "id": "a3b36945",
   "metadata": {},
   "source": [
    "<ol>\n",
    "<li>¿Cuál es el impacto de clasificar un sitio legítimo como Pishing?</li>\n",
    "<li>¿Cuál es el impacto de clasificar un sitio de Pishing como legítimo?</li>\n",
    "<li>En base a las respuestas anteriores, ¿Qué métrica elegiría para comparar modelos similares de clasificación de pishing? </li>\n",
    "<li>¿Qué modelo es mejor para la clasificación de Pishing? Justifique</li>\n",
    "<li>En base a las métricas obtenidas ¿es necesaria la intervención de una persona humana para tomar la decisión final?</li>\n",
    "</ol>"
   ]
  },
  {
   "cell_type": "code",
   "execution_count": null,
   "id": "a82f3858",
   "metadata": {},
   "outputs": [],
   "source": []
  }
 ],
 "metadata": {
  "kernelspec": {
   "display_name": "Python 3 (ipykernel)",
   "language": "python",
   "name": "python3"
  },
  "language_info": {
   "codemirror_mode": {
    "name": "ipython",
    "version": 3
   },
   "file_extension": ".py",
   "mimetype": "text/x-python",
   "name": "python",
   "nbconvert_exporter": "python",
   "pygments_lexer": "ipython3",
   "version": "3.10.5"
  }
 },
 "nbformat": 4,
 "nbformat_minor": 5
}
